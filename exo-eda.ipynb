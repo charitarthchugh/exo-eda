{
 "cells": [
  {
   "cell_type": "markdown",
   "metadata": {
    "collapsed": true,
    "pycharm": {
     "name": "#%% md\n"
    }
   },
   "source": [
    "# Exoplanet Exploratory Data Analysis (i.e. exo-eda)"
   ]
  },
  {
   "cell_type": "markdown",
   "metadata": {
    "pycharm": {
     "name": "#%% md\n"
    }
   },
   "source": [
    "In this data analysis we will analyse a list of currently known exoplanets in the\n",
    "[NASA Exoplanet Archive](https://exoplanetarchive.ipac.caltech.edu/index.html),\n",
    "made graciously available to the community on behalf of the KELT project team. For those who do not know, exoplanets are planets that orbit other stars, within our Milky Way galaxy and other galaxies (e.g. the Andromeda Galaxy, the Milky Way's near neighbor).\n",
    "\n",
    "## Downloading the dataset\n",
    "The best way to retrieve the data is by using the following piece of code:\n",
    "It interfaces with the Exoplanet Archive's Table Access Protocol API using the PyVO python package."
   ]
  },
  {
   "cell_type": "code",
   "execution_count": 1,
   "metadata": {
    "pycharm": {
     "name": "#%%\n"
    }
   },
   "outputs": [],
   "source": [
    "!pip install pyvo pandas seaborn -Uq\n",
    "import pandas as pd\n",
    "from pyvo.dal import TAPService\n",
    "import matplotlib.pyplot as plt\n",
    "import seaborn as sns\n",
    "import numpy as np\n",
    "\n",
    "sns.set_style(\"dark\")\n",
    "\n",
    "service = TAPService(\"https://exoplanetarchive.ipac.caltech.edu/TAP\")\n",
    "results = service.search(\"SELECT * FROM pscomppars\")\n",
    "df: pd.DataFrame = results.to_table().to_pandas(index=True)"
   ]
  },
  {
   "cell_type": "markdown",
   "metadata": {
    "pycharm": {
     "name": "#%% md\n"
    }
   },
   "source": [
    "## Data Preparation and Cleaning\n",
    "To be very frank, this is a large dataset. As a result there are many columns in this dataset that we\n",
    "do not need and take up memory usage.\n",
    "A quick look through the dataset shows the following:\n",
    "- Many of the columns contain \"reflinks\", which HTML references to publications.\n",
    "In addition, they generally are the same for each column which makes them redundant.\n",
    "- On a similar note, we do not need to use links that cite the academic papers where the discovery was originally\n",
    "published\n",
    "- There is also some columns that contain other HTML, making them unusable (they end with `str`)"
   ]
  },
  {
   "cell_type": "code",
   "execution_count": 2,
   "outputs": [
    {
     "name": "stdout",
     "output_type": "stream",
     "text": [
      "<class 'pandas.core.frame.DataFrame'>\n",
      "RangeIndex: 4434 entries, 0 to 4433\n",
      "Columns: 373 entries, pl_name to htm20\n",
      "dtypes: Int32(35), float64(180), int32(23), object(135)\n",
      "memory usage: 11.8+ MB\n"
     ]
    }
   ],
   "source": [
    "df.info()"
   ],
   "metadata": {
    "collapsed": false,
    "pycharm": {
     "name": "#%%\n"
    }
   }
  },
  {
   "cell_type": "code",
   "execution_count": 3,
   "metadata": {
    "pycharm": {
     "name": "#%%\n"
    }
   },
   "outputs": [],
   "source": [
    "# Deleting the reflinks\n",
    "df.drop(columns=df.filter(like=\"reflink\").columns, inplace=True)\n",
    "# Deleting the citation link\n",
    "df.drop(columns=\"disc_refname\", inplace=True)\n",
    "# Other HTML columns\n",
    "# This list also contains disc_instrument, which we need and is at index 0\n",
    "df.drop(columns=df.filter(like=\"str\").columns[1:], inplace=True)"
   ]
  },
  {
   "cell_type": "markdown",
   "metadata": {},
   "source": [
    "## Exploratory Data Analysis and Visualization\n",
    "*Gaining an understanding of the dataset*\n",
    "For an understanding of what each column refers to, please refer to the Exo"
   ]
  },
  {
   "cell_type": "markdown",
   "metadata": {},
   "source": [
    "First, it would be helpful to see how many exoplanets that have been detected. It would also be useful to find if there\n",
    "are any exoplanets have had their existence marked controversial (there is not enough evidence available to confirm their\n",
    "existence)."
   ]
  },
  {
   "cell_type": "code",
   "execution_count": 4,
   "metadata": {},
   "outputs": [
    {
     "name": "stdout",
     "output_type": "stream",
     "text": [
      "There are 4434 exoplanets detected\n"
     ]
    }
   ],
   "source": [
    "print(f'There are {df.shape[0]} exoplanets detected')"
   ]
  },
  {
   "cell_type": "code",
   "execution_count": 5,
   "outputs": [
    {
     "data": {
      "text/plain": "<Figure size 432x288 with 1 Axes>",
      "image/png": "[encoded data removed]"
     },
     "metadata": {},
     "output_type": "display_data"
    }
   ],
   "source": [
    "controv_df = pd.DataFrame(\n",
    "    {\"Non-controversial\": (df.pl_controv_flag == 0).sum(), \"Controversial\": (df.pl_controv_flag == 1).sum()}, index=[0])\n",
    "ax = controv_df.plot(kind=\"bar\")\n",
    "ax.set_title(\"Exoplanet Status\")\n",
    "ax.set_xlabel(\"Current State\")\n",
    "ax.set_ylabel(\"Count\")\n",
    "for p in ax.patches:\n",
    "    ax.annotate(str(p.get_height()), (p.get_x() * 1.005, p.get_height() * 1.005))"
   ],
   "metadata": {
    "collapsed": false,
    "pycharm": {
     "name": "#%%\n"
    }
   }
  },
  {
   "cell_type": "markdown",
   "metadata": {},
   "source": [
    "Since there is a few exoplanets that are (currently) marked as controversial, to be safe, we should create a new dataframe\n",
    "that only contains confirmed exoplanets."
   ]
  },
  {
   "cell_type": "code",
   "execution_count": 6,
   "outputs": [],
   "source": [
    "non_controv_df = pd.DataFrame(df.iloc[df[df[\"pl_controv_flag\"] == 0].index], columns=df.columns).reset_index(drop=True)"
   ],
   "metadata": {
    "collapsed": false,
    "pycharm": {
     "name": "#%%\n"
    }
   }
  },
  {
   "cell_type": "markdown",
   "source": [
    "Now we can look further into the dataset and be sure that we are using confirmed data."
   ],
   "metadata": {
    "collapsed": false
   }
  },
  {
   "cell_type": "markdown",
   "source": [
    "Here is a visualization on how many exoplanets we are discovering each year(including this year so far)"
   ],
   "metadata": {
    "collapsed": false,
    "pycharm": {
     "name": "#%% md\n"
    }
   }
  },
  {
   "cell_type": "code",
   "execution_count": 7,
   "outputs": [
    {
     "data": {
      "text/plain": "<Figure size 504x360 with 1 Axes>",
      "image/png": "[encoded data removed]"
     },
     "metadata": {},
     "output_type": "display_data"
    }
   ],
   "source": [
    "fig, ax = plt.subplots(figsize=(7, 5))\n",
    "sns.despine(fig)\n",
    "ax.set_xlabel(\"Discovery Year\")\n",
    "sns.histplot(non_controv_df[\"disc_year\"].value_counts(), x=non_controv_df[\"disc_year\"].values)\n",
    "plt.show()"
   ],
   "metadata": {
    "collapsed": false,
    "pycharm": {
     "name": "#%%\n"
    }
   }
  },
  {
   "cell_type": "markdown",
   "source": [
    "We can also see if there are any planets that orbit multiple stars"
   ],
   "metadata": {
    "collapsed": false,
    "pycharm": {
     "name": "#%% md\n"
    }
   }
  },
  {
   "cell_type": "code",
   "execution_count": 8,
   "outputs": [
    {
     "data": {
      "text/plain": "<Figure size 432x288 with 1 Axes>",
      "image/png": "[encoded data removed]"
     },
     "metadata": {},
     "output_type": "display_data"
    }
   ],
   "source": [
    "sys_types = non_controv_df[\"sy_snum\"].value_counts()\n",
    "ax = plt.axes()\n",
    "ax.bar(sys_types.keys(), sys_types.values)\n",
    "ax.set_title(\"Planet Host Star Count\")\n",
    "ax.set_ylabel(\"# of Planets\")\n",
    "ax.set_xlabel(\"# of Stars\")\n",
    "plt.xticks([1, 2, 3, 4])\n",
    "for p in ax.patches:\n",
    "    ax.annotate(str(p.get_height()), (p.get_x() * 1.005, p.get_height() * 1.005))\n",
    "plt.show()"
   ],
   "metadata": {
    "collapsed": false,
    "pycharm": {
     "name": "#%%\n"
    }
   }
  },
  {
   "cell_type": "markdown",
   "source": [
    "It would be interesting to see how many exoplanets orbit a star(s)"
   ],
   "metadata": {
    "collapsed": false,
    "pycharm": {
     "name": "#%% md\n"
    }
   }
  },
  {
   "cell_type": "markdown",
   "source": [
    "## Asking and answering questions"
   ],
   "metadata": {
    "collapsed": false,
    "pycharm": {
     "name": "#%% md\n"
    }
   }
  },
  {
   "cell_type": "markdown",
   "source": [
    "### Q1: Which techniques have found the most exoplanets?\n",
    "\n",
    "***To learn more about exoplanet detection techniques, please refer to\n",
    "[this awesome Wikipedia article](https://en.wikipedia.org/wiki/Methods_of_detecting_exoplanets)***"
   ],
   "metadata": {
    "collapsed": false,
    "pycharm": {
     "name": "#%% md\n"
    }
   }
  },
  {
   "cell_type": "code",
   "execution_count": 15,
   "outputs": [
    {
     "data": {
      "text/plain": "<Figure size 432x288 with 1 Axes>",
      "image/png": "[encoded data removed]"
     },
     "metadata": {},
     "output_type": "display_data"
    },
    {
     "name": "stdout",
     "output_type": "stream",
     "text": [
      "The transit method has found the most exoplanets\n"
     ]
    }
   ],
   "source": [
    "disc_method_counts = non_controv_df[\"discoverymethod\"].value_counts()\n",
    "#ax = plt.axes()\n",
    "disc_method_counts.plot(kind=\"bar\", title=\"Discovery Techniques\", xlabel=\"Discovery Method\",\n",
    "                        ylabel=\"# of Planets found\")\n",
    "plt.show()\n",
    "print(f'The {str(disc_method_counts.keys()[0]).lower()} method has found the most exoplanets')"
   ],
   "metadata": {
    "collapsed": false,
    "pycharm": {
     "name": "#%%\n"
    }
   }
  },
  {
   "cell_type": "markdown",
   "source": [
    "### Q2: Which facility found the most exoplanets?"
   ],
   "metadata": {
    "collapsed": false,
    "pycharm": {
     "name": "#%% md\n"
    }
   }
  },
  {
   "cell_type": "code",
   "execution_count": null,
   "outputs": [],
   "source": [
    "non_controv_df[\"disc_facility\"].value_counts()\n",
    "#"
   ],
   "metadata": {
    "collapsed": false,
    "pycharm": {
     "name": "#%%\n"
    }
   }
  },
  {
   "cell_type": "markdown",
   "source": [
    "As of writing (July 2021), the Kelper space telescope has found the most exoplanets, with over 2500 exoplanets found\n",
    "(nearly half of all known exoplanets!). This includes its secondary mission, \"K2\" after some parts failed, reducing its\n",
    "capability. It was deactivated in 2018.(It will be interesting to see how many exoplanets TESS finds as it the new\n",
    "exoplanet hunting space telescope)\n",
    "### Q5: How many exoplanets reside in the habitable zone of a star?"
   ],
   "metadata": {
    "collapsed": false,
    "pycharm": {
     "name": "#%% md\n"
    }
   }
  },
  {
   "cell_type": "markdown",
   "metadata": {
    "pycharm": {
     "name": "#%% md\n"
    }
   },
   "source": [
    "## Acknowledgements\n",
    "This data is made available to the community through the Exoplanet Archive on behalf of the KELT project team."
   ]
  }
 ],
 "metadata": {
  "interpreter": {
   "hash": "7393386585fb6910a6b98298551a296d419cb50bdeb85faadf9d14071dd177c2"
  },
  "kernelspec": {
   "display_name": "Python 3",
   "language": "python",
   "name": "python3"
  },
  "language_info": {
   "codemirror_mode": {
    "name": "ipython",
    "version": 3
   },
   "file_extension": ".py",
   "mimetype": "text/x-python",
   "name": "python",
   "nbconvert_exporter": "python",
   "pygments_lexer": "ipython3",
   "version": "3.8.0"
  }
 },
 "nbformat": 4,
 "nbformat_minor": 2
}