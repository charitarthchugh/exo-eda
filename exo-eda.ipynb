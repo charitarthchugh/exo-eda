{
 "cells": [
  {
   "cell_type": "markdown",
   "source": [
    "# Exoplanet Exploratory Data Analysis (i.e. exo-eda)"
   ],
   "metadata": {
    "collapsed": true,
    "pycharm": {
     "name": "#%% md\n"
    }
   }
  },
  {
   "cell_type": "markdown",
   "source": [
    "In this data analysis we will analyse a list of currently known exoplanets in the\n",
    "[NASA Exoplanet Archive](https://exoplanetarchive.ipac.caltech.edu/index.html),\n",
    "made graciously available to the community on behalf of the KELT project team. For those who do not know, exoplanets are planets that orbit other stars, within our Milky Way galaxy and other galaxies (e.g. the Andromeda Galaxy, the Milky Way's near neighbor).\n",
    "\n",
    "## Downloading the dataset\n",
    "The best way to retrieve the data is by using the following piece of code:\n",
    "It interfaces with the Exoplanet Archive's Table Access Protocol API using the PyVO python package alongside importing all the packages needed for this project. (This usually takes a while.)"
   ],
   "metadata": {
    "pycharm": {
     "name": "#%% md\n"
    }
   }
  },
  {
   "cell_type": "code",
   "execution_count": null,
   "source": [
    "!pip install pyvo pandas seaborn tqdm jovian -Uq\n",
    "import pandas as pd\n",
    "from pyvo.dal import TAPService\n",
    "import matplotlib.pyplot as plt\n",
    "import seaborn as sns\n",
    "import numpy as np\n",
    "from tqdm import tqdm\n",
    "\n",
    "sns.set_style(\"dark\")\n",
    "\n",
    "service = TAPService(\"https://exoplanetarchive.ipac.caltech.edu/TAP\")\n",
    "results = service.search(\"SELECT * FROM pscomppars\")\n",
    "df: pd.DataFrame = results.to_table().to_pandas(index=True)"
   ],
   "outputs": [],
   "metadata": {
    "pycharm": {
     "name": "#%%\n",
     "is_executing": true
    }
   }
  },
  {
   "cell_type": "markdown",
   "source": [
    "## Data Preparation and Cleaning\n",
    "To be very frank, this is a large dataset. As a result there are many columns in this dataset that we\n",
    "do not need and take up memory usage.\n",
    "A quick look through the dataset shows the following:\n",
    "- Many of the columns contain \"reflinks\", which HTML references to publications.\n",
    "In addition, they generally are the same for each column which makes them redundant.\n",
    "- On a similar note, we do not need to use links that cite the academic papers where the discovery was originally\n",
    "published\n",
    "- There is also some columns that contain other HTML, making them unusable (they end with `str`)"
   ],
   "metadata": {
    "pycharm": {
     "name": "#%% md\n"
    }
   }
  },
  {
   "cell_type": "code",
   "execution_count": null,
   "source": [
    "df.info()"
   ],
   "outputs": [],
   "metadata": {
    "collapsed": false,
    "pycharm": {
     "name": "#%%\n",
     "is_executing": true
    }
   }
  },
  {
   "cell_type": "code",
   "execution_count": null,
   "source": [
    "# Deleting the reflinks\n",
    "df.drop(columns=df.filter(like=\"reflink\").columns, inplace=True)\n",
    "# Deleting the citation link\n",
    "df.drop(columns=\"disc_refname\", inplace=True)\n",
    "# Other HTML columns\n",
    "# This list also contains disc_instrument, which we need and is at index 0\n",
    "df.drop(columns=df.filter(like=\"str\").columns[1:], inplace=True)"
   ],
   "outputs": [],
   "metadata": {
    "pycharm": {
     "name": "#%%\n",
     "is_executing": true
    }
   }
  },
  {
   "cell_type": "code",
   "execution_count": null,
   "source": [
    "df.info(memory_usage=True)"
   ],
   "outputs": [],
   "metadata": {
    "pycharm": {
     "is_executing": true
    }
   }
  },
  {
   "cell_type": "markdown",
   "source": [
    "## Exploratory Data Analysis and Visualization\n",
    "\n",
    "*Gaining an understanding of the dataset*  \n",
    "For an understanding of what each column refers to, please refer to the [Exoplanet Archive](https://exoplanetarchive.ipac.caltech.edu/docs/API_PS_columns.html)"
   ],
   "metadata": {}
  },
  {
   "cell_type": "markdown",
   "source": [
    "### Exoplanets"
   ],
   "metadata": {}
  },
  {
   "cell_type": "markdown",
   "source": [
    "First, it would be helpful to see how many exoplanets that have been detected. "
   ],
   "metadata": {}
  },
  {
   "cell_type": "code",
   "execution_count": null,
   "source": [
    "print(f'There are {df.shape[0]} exoplanets detected')"
   ],
   "outputs": [],
   "metadata": {
    "pycharm": {
     "is_executing": true
    }
   }
  },
  {
   "cell_type": "markdown",
   "source": [
    "### Controversial Exoplanets"
   ],
   "metadata": {}
  },
  {
   "cell_type": "markdown",
   "source": [
    "Looking at the inclusion of the `pl_controv_flag` it seems as if there are exoplanets whose status is not confirmed. "
   ],
   "metadata": {}
  },
  {
   "cell_type": "code",
   "execution_count": null,
   "source": [
    "controv_df = pd.DataFrame(\n",
    "    {\"Non-controversial\": (df.pl_controv_flag == 0).sum(), \"Controversial\": (df.pl_controv_flag == 1).sum()}, index=[0])\n",
    "ax = controv_df.plot(kind=\"bar\")\n",
    "ax.set_title(\"Exoplanet Status\")\n",
    "ax.set_xlabel(\"Current State\")\n",
    "ax.set_ylabel(\"Count\")\n",
    "for p in ax.patches:\n",
    "    ax.annotate(str(p.get_height()), (p.get_x() * 1.005, p.get_height() * 1.005))"
   ],
   "outputs": [],
   "metadata": {
    "collapsed": false,
    "pycharm": {
     "name": "#%%\n",
     "is_executing": true
    }
   }
  },
  {
   "cell_type": "markdown",
   "source": [
    "Since there is a few exoplanets that are (currently) marked as controversial, to be safe, we should create a new dataframe\n",
    "that only contains confirmed exoplanets."
   ],
   "metadata": {}
  },
  {
   "cell_type": "code",
   "execution_count": null,
   "source": [
    "non_controv_df = pd.DataFrame(df.iloc[df[df[\"pl_controv_flag\"] == 0].index], columns=df.columns).reset_index(drop=True)"
   ],
   "outputs": [],
   "metadata": {
    "collapsed": false,
    "pycharm": {
     "name": "#%%\n",
     "is_executing": true
    }
   }
  },
  {
   "cell_type": "markdown",
   "source": [
    "Now we can look further into the dataset and be sure that we are using confirmed data."
   ],
   "metadata": {
    "collapsed": false
   }
  },
  {
   "cell_type": "markdown",
   "source": [
    "### Number of exoplanets discovered each year"
   ],
   "metadata": {}
  },
  {
   "cell_type": "markdown",
   "source": [
    "Here is a visualization on how many exoplanets we are discovering each year(including this year so far)"
   ],
   "metadata": {
    "collapsed": false,
    "pycharm": {
     "name": "#%% md\n"
    }
   }
  },
  {
   "cell_type": "code",
   "execution_count": null,
   "source": [
    "fig, ax = plt.subplots(figsize=(7, 5))\n",
    "sns.despine(fig)\n",
    "ax.set_xlabel(\"Discovery Year\")\n",
    "sns.histplot(non_controv_df[\"disc_year\"].value_counts(), x=non_controv_df[\"disc_year\"].values)\n",
    "plt.show()"
   ],
   "outputs": [],
   "metadata": {
    "collapsed": false,
    "pycharm": {
     "name": "#%%\n",
     "is_executing": true
    }
   }
  },
  {
   "cell_type": "markdown",
   "source": [
    "### Planetary Systems\n"
   ],
   "metadata": {
    "collapsed": false,
    "pycharm": {
     "name": "#%% md\n"
    }
   }
  },
  {
   "cell_type": "markdown",
   "source": [
    "We can also see if there are any planets that orbit multiple stars"
   ],
   "metadata": {}
  },
  {
   "cell_type": "code",
   "execution_count": null,
   "source": [
    "sys_types = non_controv_df[\"sy_snum\"].value_counts()\n",
    "ax = plt.axes()\n",
    "ax.bar(sys_types.keys(), sys_types.values)\n",
    "ax.set_title(\"Planet Host Star Count\")\n",
    "ax.set_ylabel(\"# of Planets\")\n",
    "ax.set_xlabel(\"# of Stars\")\n",
    "plt.xticks([1, 2, 3, 4])\n",
    "for p in ax.patches:\n",
    "    ax.annotate(str(p.get_height()), (p.get_x() * 1.005, p.get_height() * 1.005))\n",
    "plt.show()"
   ],
   "outputs": [],
   "metadata": {
    "collapsed": false,
    "pycharm": {
     "name": "#%%\n",
     "is_executing": true
    }
   }
  },
  {
   "cell_type": "markdown",
   "source": [
    "### Discovery locale\n",
    "Have ground or space telescopes found the most exoplanets? (Space telescopes do not have to deal with atmospheric obstructions, e.g. clouds, but are more limited in nature due to the costs/limitations of going to space)"
   ],
   "metadata": {}
  },
  {
   "cell_type": "code",
   "execution_count": 1,
   "source": [
    "ax=non_controv_df[\"disc_locale\"].value_counts().plot(kind=\"bar\")\n",
    "ax.set_xlabel(\"Discovery Locale\")\n",
    "ax.set_ylabel(\"Count\")\n",
    "ax.set_title(\"Discovery locale Counts\")\n",
    "plt.show()"
   ],
   "outputs": [
    {
     "output_type": "error",
     "ename": "NameError",
     "evalue": "name 'non_controv_df' is not defined",
     "traceback": [
      "\u001b[0;31m---------------------------------------------------------------------------\u001b[0m",
      "\u001b[0;31mNameError\u001b[0m                                 Traceback (most recent call last)",
      "\u001b[0;32m<ipython-input-1-e30dc08aaadf>\u001b[0m in \u001b[0;36m<module>\u001b[0;34m\u001b[0m\n\u001b[0;32m----> 1\u001b[0;31m \u001b[0mnon_controv_df\u001b[0m\u001b[0;34m[\u001b[0m\u001b[0;34m\"disc_locale\"\u001b[0m\u001b[0;34m]\u001b[0m\u001b[0;34m.\u001b[0m\u001b[0mplot\u001b[0m\u001b[0;34m(\u001b[0m\u001b[0;34m)\u001b[0m\u001b[0;34m\u001b[0m\u001b[0;34m\u001b[0m\u001b[0m\n\u001b[0m",
      "\u001b[0;31mNameError\u001b[0m: name 'non_controv_df' is not defined"
     ]
    }
   ],
   "metadata": {}
  },
  {
   "cell_type": "markdown",
   "source": [
    "Here we can find out the number of exoplanets that are in a system"
   ],
   "metadata": {}
  },
  {
   "cell_type": "code",
   "execution_count": null,
   "source": [
    "ax=non_controv_df[\"sy_pnum\"].value_counts().plot(kind=\"bar\")\n",
    "ax.set_xlabel(\"# of Planets orbiting a star(s)\")\n",
    "ax.set_ylabel(\"Count\")\n",
    "ax.set_title(\"# of Exoplanets in a system\")\n",
    "for p in ax.patches:\n",
    "    ax.annotate(str(p.get_height()), (p.get_x() * 1.005, p.get_height() * 1.005))\n",
    "plt.show()"
   ],
   "outputs": [],
   "metadata": {
    "pycharm": {
     "is_executing": true
    }
   }
  },
  {
   "cell_type": "markdown",
   "source": [
    "This is very interesting to see. It is a good reminder to see that worlds like Tatooine from Star Wars are still possible."
   ],
   "metadata": {}
  },
  {
   "cell_type": "markdown",
   "source": [
    "## Asking and answering questions"
   ],
   "metadata": {
    "collapsed": false,
    "pycharm": {
     "name": "#%% md\n"
    }
   }
  },
  {
   "cell_type": "markdown",
   "source": [
    "### Q1: Which techniques have found the most exoplanets?"
   ],
   "metadata": {
    "collapsed": false,
    "pycharm": {
     "name": "#%% md\n"
    }
   }
  },
  {
   "cell_type": "markdown",
   "source": [
    "***To learn more about exoplanet detection techniques, please refer to\n",
    "[this awesome Wikipedia article](https://en.wikipedia.org/wiki/Methods_of_detecting_exoplanets)***"
   ],
   "metadata": {}
  },
  {
   "cell_type": "code",
   "execution_count": null,
   "source": [
    "disc_method_counts = non_controv_df[\"discoverymethod\"].value_counts()\n",
    "#ax = plt.axes()\n",
    "disc_method_counts.plot(kind=\"bar\", title=\"Discovery Techniques\", xlabel=\"Discovery Method\",\n",
    "                        ylabel=\"# of Planets found\")\n",
    "plt.show()\n",
    "print(f'The {str(disc_method_counts.keys()[0]).lower()} method has found the most exoplanets')"
   ],
   "outputs": [],
   "metadata": {
    "collapsed": false,
    "pycharm": {
     "name": "#%%\n",
     "is_executing": true
    }
   }
  },
  {
   "cell_type": "markdown",
   "source": [
    "### Q2: Which facility found the most exoplanets?"
   ],
   "metadata": {
    "collapsed": false,
    "pycharm": {
     "name": "#%% md\n"
    }
   }
  },
  {
   "cell_type": "code",
   "execution_count": null,
   "source": [
    "non_controv_df[\"disc_facility\"].value_counts()"
   ],
   "outputs": [],
   "metadata": {
    "collapsed": false,
    "pycharm": {
     "name": "#%%\n",
     "is_executing": true
    }
   }
  },
  {
   "cell_type": "markdown",
   "source": [
    "As of writing (July 2021), the Kelper space telescope has found the most exoplanets, with over 2500 exoplanets found\n",
    "(nearly half of all known exoplanets!). This includes its secondary mission, \"K2\" after some parts failed, reducing its\n",
    "capability. It was deactivated in 2018. (It will be interesting to see how many exoplanets TESS finds as it the new\n",
    "exoplanet hunting space telescope)"
   ],
   "metadata": {
    "collapsed": false,
    "pycharm": {
     "name": "#%% md\n"
    }
   }
  },
  {
   "cell_type": "markdown",
   "source": [
    "### Q3: How far are the exoplanets from their host stars(au)?"
   ],
   "metadata": {}
  },
  {
   "cell_type": "markdown",
   "source": [
    "An au(astronomical unit) is the average distance from our planet to our sun.\n",
    "Since we may get some very large numbers for distance, it is better to take the median."
   ],
   "metadata": {
    "pycharm": {
     "name": "#%% md\n"
    }
   }
  },
  {
   "cell_type": "code",
   "execution_count": null,
   "source": [
    "non_controv_df[\"pl_orbsmax\"].median()"
   ],
   "outputs": [],
   "metadata": {
    "collapsed": false,
    "pycharm": {
     "name": "#%%\n",
     "is_executing": true
    }
   }
  },
  {
   "cell_type": "markdown",
   "source": [
    "### Q4: What is the median number of planets that orbit a star"
   ],
   "metadata": {}
  },
  {
   "cell_type": "code",
   "execution_count": 2,
   "source": [
    "non_controv_df[\"sy_pnum\"].median()"
   ],
   "outputs": [
    {
     "output_type": "error",
     "ename": "NameError",
     "evalue": "name 'non_controv_df' is not defined",
     "traceback": [
      "\u001b[0;31m---------------------------------------------------------------------------\u001b[0m",
      "\u001b[0;31mNameError\u001b[0m                                 Traceback (most recent call last)",
      "\u001b[0;32m<ipython-input-2-a3d9c4d9ff08>\u001b[0m in \u001b[0;36m<module>\u001b[0;34m\u001b[0m\n\u001b[0;32m----> 1\u001b[0;31m \u001b[0mnon_controv_df\u001b[0m\u001b[0;34m[\u001b[0m\u001b[0;34m\"sy_pnum\"\u001b[0m\u001b[0;34m]\u001b[0m\u001b[0;34m.\u001b[0m\u001b[0mmedian\u001b[0m\u001b[0;34m(\u001b[0m\u001b[0;34m)\u001b[0m\u001b[0;34m\u001b[0m\u001b[0;34m\u001b[0m\u001b[0m\n\u001b[0m",
      "\u001b[0;31mNameError\u001b[0m: name 'non_controv_df' is not defined"
     ]
    }
   ],
   "metadata": {}
  },
  {
   "cell_type": "code",
   "execution_count": null,
   "source": [
    "non_controv_df[\"sy_pnum\"].value_counts()"
   ],
   "outputs": [],
   "metadata": {}
  },
  {
   "cell_type": "markdown",
   "source": [
    "It seems as if our solar system is quite the exception having 8 planets + 1 (confirmed) dwarf planet, when most have systems have only 1 planet. "
   ],
   "metadata": {}
  },
  {
   "cell_type": "markdown",
   "source": [
    "### Q5: How many exoplanets reside in the habitable zone of a star?\n"
   ],
   "metadata": {}
  },
  {
   "cell_type": "markdown",
   "source": [
    "\n",
    "A word of caution: this is a non-scientific rough calculation based on the habitable zone of our own sun (which itself is an estimate). Additionally, this only works on planets that orbit only 1 star. Many factors are involved in finding the habitability of our planet. See [this for more details](https://astronomy.stackexchange.com/questions/44974/calculate-the-habitable-zone-of-a-star-based-on-nasa-exoplanet-archive).  \n",
    "This is based on the [following formulas](https://exoplanetarchive.ipac.caltech.edu/docs/poet_calculations.html) from the Exoplanet Archive.\n"
   ],
   "metadata": {}
  },
  {
   "cell_type": "code",
   "execution_count": null,
   "source": [
    "def is_habitable(st_lum: float, st_teff: float, st_rad: float, pl_orb: float):\n",
    "    if not np.isnan(st_lum) and st_lum > 0:\n",
    "        pass\n",
    "    elif not (np.isnan(st_rad) or np.isnan(st_teff)):\n",
    "        st_lum = pow(st_rad, 2) * pow(st_teff, 4)\n",
    "    else:\n",
    "        return np.nan\n",
    "    \n",
    "    try:\n",
    "        sqrt_lum = np.sqrt(st_lum)\n",
    "    except RuntimeWarning:\n",
    "        return np.nan\n",
    "    inner_lim = 0.75 * sqrt_lum\n",
    "    outer_lim = 1.77 * sqrt_lum\n",
    "    if inner_lim < pl_orb < outer_lim:\n",
    "        return True\n",
    "    else:\n",
    "        return False"
   ],
   "outputs": [],
   "metadata": {
    "pycharm": {
     "is_executing": true
    }
   }
  },
  {
   "cell_type": "code",
   "execution_count": null,
   "source": [
    "# Filtering to planets that orbit a single star\n",
    "single_star_df = pd.DataFrame(non_controv_df[non_controv_df[\"sy_pnum\"]==1]).reset_index(drop=True)"
   ],
   "outputs": [],
   "metadata": {
    "pycharm": {
     "is_executing": true
    }
   }
  },
  {
   "cell_type": "code",
   "execution_count": null,
   "source": [
    "pl_is_in_habitable_range=[]\n",
    "for i in tqdm(range(single_star_df.shape[0])):\n",
    "    st_lum = single_star_df[\"st_lum\"][i]\n",
    "    pl_orb = single_star_df[\"pl_orbsmax\"][i]\n",
    "    st_teff = single_star_df[\"st_teff\"][i]\n",
    "    st_rad = single_star_df[\"st_rad\"][i]\n",
    "    result = is_habitable(st_lum, st_teff,st_rad,pl_orb)\n",
    "    pl_is_in_habitable_range.append(result)\n"
   ],
   "outputs": [],
   "metadata": {
    "pycharm": {
     "is_executing": true
    }
   }
  },
  {
   "cell_type": "code",
   "execution_count": null,
   "source": [
    "single_star_df[\"pl_is_in_habitable_range\"] = pl_is_in_habitable_range\n",
    "print(f'Only {single_star_df[\"pl_is_in_habitable_range\"].value_counts()[1]} of {single_star_df.shape[0]} exoplanets reside within the habitable zone of their host star')"
   ],
   "outputs": [],
   "metadata": {
    "pycharm": {
     "is_executing": true
    }
   }
  },
  {
   "cell_type": "markdown",
   "source": [
    "## Acknowledgements\n",
    "\n",
    "- Thanks to Jovian for creating awesome courses on Data Science and Machine Learning!\n",
    "- This data is made available to the community through the Exoplanet Archive on behalf of the KELT project team."
   ],
   "metadata": {
    "pycharm": {
     "name": "#%% md\n"
    }
   }
  }
 ],
 "metadata": {
  "interpreter": {
   "hash": "7393386585fb6910a6b98298551a296d419cb50bdeb85faadf9d14071dd177c2"
  },
  "kernelspec": {
   "name": "python3",
   "display_name": "Python 3.8.0 64-bit ('exo-eda': conda)"
  },
  "language_info": {
   "name": "python",
   "version": "3.9.6",
   "mimetype": "text/x-python",
   "codemirror_mode": {
    "name": "ipython",
    "version": 3
   },
   "pygments_lexer": "ipython3",
   "nbconvert_exporter": "python",
   "file_extension": ".py"
  }
 },
 "nbformat": 4,
 "nbformat_minor": 2
}